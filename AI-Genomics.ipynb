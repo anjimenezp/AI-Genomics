{
  "nbformat": 4,
  "nbformat_minor": 0,
  "metadata": {
    "colab": {
      "provenance": [],
      "include_colab_link": true
    },
    "kernelspec": {
      "name": "python3",
      "display_name": "Python 3"
    },
    "language_info": {
      "name": "python"
    }
  },
  "cells": [
    {
      "cell_type": "markdown",
      "metadata": {
        "id": "view-in-github",
        "colab_type": "text"
      },
      "source": [
        "<a href=\"https://colab.research.google.com/github/anjimenezp/AI-Genomics/blob/main/AI-Genomics.ipynb\" target=\"_parent\"><img src=\"https://colab.research.google.com/assets/colab-badge.svg\" alt=\"Open In Colab\"/></a>"
      ]
    },
    {
      "cell_type": "code",
      "source": [
        "import random\n",
        "import pandas as pd\n",
        "\n",
        "pd.set_option('display.width', 200)\n",
        "\n",
        "def extract_data():\n",
        "  df = pd.read_csv('https://archive.ics.uci.edu/ml/machine-learning-databases/molecular-biology/splice-junction-gene-sequences/splice.data', header=None, names=['Class', 'Name', 'Sequence'])\n",
        "  return df\n",
        "\n",
        "print(extract_data().head(10))"
      ],
      "metadata": {
        "colab": {
          "base_uri": "https://localhost:8080/"
        },
        "id": "tn5X-H1iUjJP",
        "outputId": "fdde3345-7e4a-4265-f137-7fbca648d85d"
      },
      "execution_count": null,
      "outputs": [
        {
          "output_type": "stream",
          "name": "stdout",
          "text": [
            "  Class                     Name                                           Sequence\n",
            "0    EI         ATRINS-DONOR-521                 CCAGCTGCATCACAGGAGGCCAGCGAGCAGG...\n",
            "1    EI         ATRINS-DONOR-905                 AGACCCGCCGGGAGGCGGAGGACCTGCAGGG...\n",
            "2    EI         BABAPOE-DONOR-30                 GAGGTGAAGGACGTCCTTCCCCAGGAGCCGG...\n",
            "3    EI        BABAPOE-DONOR-867                GGGCTGCGTTGCTGGTCACATTCCTGGCAGGT...\n",
            "4    EI       BABAPOE-DONOR-2817               GCTCAGCCCCCAGGTCACCCAGGAACTGACGTG...\n",
            "5    EI       CHPIGECA-DONOR-378               CAGACTGGGTGGACAACAAAACCTTCAGCGGTA...\n",
            "6    EI       CHPIGECA-DONOR-903               CCTTTGAGGACAGCACCAAGAAGTGTGCAGGTA...\n",
            "7    EI      CHPIGECA-DONOR-1313              CCCTCGTGCGGTCCACGACCAAGACCAGCGGTGA...\n",
            "8    EI      GCRHBBA1-DONOR-1260              TGGCGACTACGGCGCGGAGGCCCTGGAGAGGTGA...\n",
            "9    EI      GCRHBBA1-DONOR-1590              AAGCTGACAGTGGACCCGGTCAACTTCAAGGTGA...\n"
          ]
        }
      ]
    },
    {
      "cell_type": "code",
      "execution_count": null,
      "metadata": {
        "colab": {
          "base_uri": "https://localhost:8080/"
        },
        "id": "o1FOy9XUDfPA",
        "outputId": "b3b1368b-6f42-45bd-84a4-6358aa697426"
      },
      "outputs": [
        {
          "output_type": "stream",
          "name": "stdout",
          "text": [
            "                                                 seq type\n",
            "0                 CCAGCTGCATCACAGGAGGCCAGCGAGCAGG...   EI\n",
            "1                 AGACCCGCCGGGAGGCGGAGGACCTGCAGGG...   EI\n",
            "2                 GAGGTGAAGGACGTCCTTCCCCAGGAGCCGG...   EI\n",
            "3                GGGCTGCGTTGCTGGTCACATTCCTGGCAGGT...   EI\n",
            "4               GCTCAGCCCCCAGGTCACCCAGGAACTGACGTG...   EI\n"
          ]
        }
      ],
      "source": [
        "import random\n",
        "import pandas as pd\n",
        "\n",
        "def generate_simulated_dna_sequence(length, type):\n",
        "    \"\"\"Generate a simulated DNA sequence with more complexity.\"\"\"\n",
        "    motifs = {\n",
        "    'EI': ['GT', 'GTAAGT'],  # Exon-Intron splice sites\n",
        "    'IE': ['AG', 'CAGG'],  # Intron-Exon splice sites\n",
        "    'N': ['TATA', 'CAAT', 'AAA', 'TTT', 'CCC', 'GGG']  # Regulatory elements and repetitive sequences\n",
        "  }\n",
        "\n",
        "    # def mutate(sequence):\n",
        "    #     # Ajustar el número de mutaciones en función de la longitud de la secuencia\n",
        "    #     max_mutations = len(sequence) // 4  # Hasta un 25% de la secuencia\n",
        "    #     num_mutations = random.randint(1, max(max_mutations, 1))  # Al menos una mutación\n",
        "    #     mutation_sites = random.sample(range(len(sequence)), k=num_mutations)\n",
        "    #     for i in mutation_sites:\n",
        "    #         sequence = sequence[:i] + random.choice('ACGT') + sequence[i+1:]\n",
        "    #     return sequence\n",
        "\n",
        "    # sequence = ''\n",
        "    # while len(sequence) < length:\n",
        "    #     if type in motifs:\n",
        "    #         motif = random.choice(motifs[type]) + ''.join(random.choice('ACGT') for _ in range(3))\n",
        "    #         sequence += mutate(motif)\n",
        "    #     else:\n",
        "    #         sequence += mutate(''.join(random.choice('ACGT') for _ in range(6)))\n",
        "    #     sequence = sequence[:length]\n",
        "    # return sequence\n",
        "\n",
        "\n",
        "\n",
        "\n",
        "# def create_simulated_data(num_samples, seq_length):\n",
        "#     types = ['EI', 'IE', 'N']\n",
        "#     data = {'seq': [], 'type': []}\n",
        "#     for _ in range(num_samples):\n",
        "#         seq_type = random.choice(types)\n",
        "#         seq = generate_simulated_dna_sequence(seq_length, seq_type)\n",
        "#         data['seq'].append(seq)\n",
        "#         data['type'].append(seq_type)\n",
        "#     return pd.DataFrame(data)\n",
        "\n",
        "real_data = pd.read_csv('https://archive.ics.uci.edu/ml/machine-learning-databases/molecular-biology/splice-junction-gene-sequences/splice.data', header=None, names=['type', 'Name', 'seq'])\n",
        "real_data.drop('Name', axis=1, inplace=True)\n",
        "real_data = real_data[['seq', 'type']]\n",
        "\n",
        "# num_samples = 65536\n",
        "seq_length = 60\n",
        "# simulated_data = create_simulated_data(num_samples, seq_length)]\n",
        "real_data = pd.DataFrame(real_data)\n",
        "print(real_data.head())\n"
      ]
    },
    {
      "cell_type": "markdown",
      "source": [
        "**Cuantificando las etiquetas**"
      ],
      "metadata": {
        "id": "viX4pY5uFnzt"
      }
    },
    {
      "cell_type": "code",
      "source": [
        "from sklearn.preprocessing import LabelEncoder\n",
        "\n",
        "# Crear una instancia de LabelEncoder\n",
        "label_encoder = LabelEncoder()\n",
        "\n",
        "# Añadir una nueva columna al DataFrame con las etiquetas codificadas\n",
        "real_data['type_encoded'] = label_encoder.fit_transform(real_data['type'])\n",
        "\n",
        "# Verificar las primeras filas del DataFrame para confirmar la adición\n",
        "print(real_data.head())\n"
      ],
      "metadata": {
        "colab": {
          "base_uri": "https://localhost:8080/"
        },
        "id": "wNkJlGMrFxcJ",
        "outputId": "bafd0818-1806-43ce-96a5-d01978510194"
      },
      "execution_count": null,
      "outputs": [
        {
          "output_type": "stream",
          "name": "stdout",
          "text": [
            "                                                 seq type  type_encoded\n",
            "0                 CCAGCTGCATCACAGGAGGCCAGCGAGCAGG...   EI             0\n",
            "1                 AGACCCGCCGGGAGGCGGAGGACCTGCAGGG...   EI             0\n",
            "2                 GAGGTGAAGGACGTCCTTCCCCAGGAGCCGG...   EI             0\n",
            "3                GGGCTGCGTTGCTGGTCACATTCCTGGCAGGT...   EI             0\n",
            "4               GCTCAGCCCCCAGGTCACCCAGGAACTGACGTG...   EI             0\n"
          ]
        }
      ]
    },
    {
      "cell_type": "markdown",
      "source": [
        "**One_hot_encode**"
      ],
      "metadata": {
        "id": "b9Bg9LBFxFCA"
      }
    },
    {
      "cell_type": "code",
      "source": [
        "import torch\n",
        "from torch.utils.data import Dataset\n",
        "\n",
        "def clean_sequence(seq):\n",
        "    return seq.replace(' ', '').upper()  # Elimina espacios y convierte a mayúsculas\n",
        "\n",
        "def one_hot_encode(seq):\n",
        "    mapping = {'A': [1, 0, 0, 0], 'C': [0, 1, 0, 0], 'G': [0, 0, 1, 0], 'T': [0, 0, 0, 1], 'N': [0, 0, 0, 0]}\n",
        "    return torch.tensor([mapping.get(nucleotide, [0, 0, 0, 0]) for nucleotide in seq], dtype=torch.float32)\n",
        "\n",
        "class SeqDatasetOHE(Dataset):\n",
        "    def __init__(self, dataframe, seq_col, label_col):\n",
        "        self.dataframe = dataframe\n",
        "        self.seq_col = seq_col\n",
        "        self.label_col = label_col\n",
        "\n",
        "    def __len__(self):\n",
        "        return len(self.dataframe)\n",
        "\n",
        "    def __getitem__(self, idx):\n",
        "        seq = self.dataframe.iloc[idx][self.seq_col]\n",
        "        seq = clean_sequence(seq)  # Limpia la secuencia\n",
        "        label = self.dataframe.iloc[idx][self.label_col]\n",
        "        return one_hot_encode(seq), label\n",
        "\n",
        "\n",
        "print(one_hot_encode(\"CACGAT\"))\n"
      ],
      "metadata": {
        "id": "K2DWM8HoxK0o",
        "colab": {
          "base_uri": "https://localhost:8080/"
        },
        "outputId": "50b801b4-a356-4ac3-f265-0461dc70b9b2"
      },
      "execution_count": null,
      "outputs": [
        {
          "output_type": "stream",
          "name": "stdout",
          "text": [
            "tensor([[0., 1., 0., 0.],\n",
            "        [1., 0., 0., 0.],\n",
            "        [0., 1., 0., 0.],\n",
            "        [0., 0., 1., 0.],\n",
            "        [1., 0., 0., 0.],\n",
            "        [0., 0., 0., 1.]])\n"
          ]
        }
      ]
    },
    {
      "cell_type": "markdown",
      "source": [
        "**SPLITS DE ENTRENAMIENTO**"
      ],
      "metadata": {
        "id": "Zr8HTpxWEP1G"
      }
    },
    {
      "cell_type": "code",
      "source": [
        "import random\n",
        "\n",
        "def quick_split(df, split_frac=0.7):\n",
        "    \"\"\"Divide el DataFrame en dos conjuntos de manera aleatoria.\n",
        "\n",
        "    Args:\n",
        "    df (DataFrame): DataFrame a dividir.\n",
        "    split_frac (float): Fracción del conjunto para entrenamiento.\n",
        "\n",
        "    Returns:\n",
        "    DataFrame: Conjunto de entrenamiento.\n",
        "    DataFrame: Conjunto restante.\n",
        "    \"\"\"\n",
        "    shuffled = df.sample(frac=1).reset_index(drop=True)\n",
        "    split_idx = int(len(df) * split_frac)\n",
        "    train_df = shuffled[:split_idx]\n",
        "    rest_df = shuffled[split_idx:]\n",
        "    return train_df, rest_df\n",
        "\n",
        "# Genera los conjuntos de entrenamiento, validación y prueba\n",
        "train_df, remaining_df = quick_split(real_data, split_frac=0.7)\n",
        "val_df, test_df = quick_split(remaining_df, split_frac=0.5)\n",
        "\n",
        "# Verifica los tamaños de los conjuntos\n",
        "print(f\"Entrenamiento: {len(train_df)} muestras\")\n",
        "print(f\"Validación: {len(val_df)} muestras\")\n",
        "print(f\"Prueba: {len(test_df)} muestras\")\n"
      ],
      "metadata": {
        "colab": {
          "base_uri": "https://localhost:8080/"
        },
        "id": "LHIwvf6OEQWV",
        "outputId": "38efe95b-6a70-4dc3-e66f-77806b2af6a2"
      },
      "execution_count": null,
      "outputs": [
        {
          "output_type": "stream",
          "name": "stdout",
          "text": [
            "Entrenamiento: 2233 muestras\n",
            "Validación: 478 muestras\n",
            "Prueba: 479 muestras\n"
          ]
        }
      ]
    },
    {
      "cell_type": "markdown",
      "source": [
        "**Preparar DataLoader**"
      ],
      "metadata": {
        "id": "rtlx_n1NE9-B"
      }
    },
    {
      "cell_type": "code",
      "source": [
        "from torch.utils.data import DataLoader\n",
        "\n",
        "batch_size = 32  # Puedes ajustar esto según las necesidades de tu modelo y hardware\n",
        "\n",
        "train_dataset = SeqDatasetOHE(train_df, 'seq', 'type_encoded')\n",
        "val_dataset = SeqDatasetOHE(val_df, 'seq', 'type_encoded')\n",
        "test_dataset = SeqDatasetOHE(test_df, 'seq', 'type_encoded')\n",
        "\n",
        "train_loader = DataLoader(train_dataset, batch_size=batch_size, shuffle=True)\n",
        "val_loader = DataLoader(val_dataset, batch_size=batch_size, shuffle=False)\n",
        "test_loader = DataLoader(test_dataset, batch_size=batch_size, shuffle=False)\n"
      ],
      "metadata": {
        "id": "sTWHuU7HE7EN"
      },
      "execution_count": null,
      "outputs": []
    },
    {
      "cell_type": "markdown",
      "source": [
        "**Modelo CNN**"
      ],
      "metadata": {
        "id": "XN-zlRcXGzu4"
      }
    },
    {
      "cell_type": "code",
      "source": [
        "import torch\n",
        "import torch.nn as nn\n",
        "\n",
        "class DNA_CNN(nn.Module):\n",
        "    def __init__(self, seq_len, num_classes):\n",
        "        super(DNA_CNN, self).__init__()\n",
        "        self.conv1 = nn.Conv1d(4, 32, kernel_size=3, stride=1, padding=1)\n",
        "        self.pool = nn.MaxPool1d(2, 2)\n",
        "        self.conv2 = nn.Conv1d(32, 64, kernel_size=3, stride=1, padding=1)\n",
        "        self.dropout = nn.Dropout(0.5)\n",
        "        self.fc1 = nn.Linear(64 * (seq_len // 4), 128)\n",
        "        self.fc2 = nn.Linear(128, num_classes)\n",
        "\n",
        "    def forward(self, x):\n",
        "        x = x.permute(0, 2, 1)\n",
        "        x = self.pool(nn.functional.relu(self.conv1(x)))\n",
        "        x = self.pool(nn.functional.relu(self.conv2(x)))\n",
        "        x = x.view(x.size(0), -1)\n",
        "        x = self.dropout(x)\n",
        "        x = nn.functional.relu(self.fc1(x))\n",
        "        x = self.fc2(x)\n",
        "        return x\n",
        "\n",
        "\n",
        "\n",
        "# Ejemplo de instanciación del modelo CNN\n",
        "num_classes = len(real_data['type'].unique())  # Número de tipos únicos de secuencias\n",
        "model = DNA_CNN(seq_length, num_classes)\n"
      ],
      "metadata": {
        "id": "8TDgFJESG2lm"
      },
      "execution_count": null,
      "outputs": []
    },
    {
      "cell_type": "markdown",
      "source": [
        "**Training loop functions**"
      ],
      "metadata": {
        "id": "9_xnbxUsGWHO"
      }
    },
    {
      "cell_type": "markdown",
      "source": [
        "**Entrenamiento y Validación**"
      ],
      "metadata": {
        "id": "AybSCEsMIrwt"
      }
    },
    {
      "cell_type": "code",
      "source": [
        "import torch.optim as optim\n",
        "# Definir el número de épocas\n",
        "num_epochs = 20  # Puedes ajustar este número según tus necesidades\n",
        "\n",
        "# Cambiar a un optimizador más eficiente como Adam\n",
        "optimizer = optim.Adam(model.parameters(), lr=0.001)\n",
        "\n",
        "# Definir la función de perdida\n",
        "loss_func = nn.CrossEntropyLoss()\n",
        "\n",
        "# Considera implementar una estrategia de ajuste de ratio de aprendizaje\n",
        "scheduler = optim.lr_scheduler.ReduceLROnPlateau(optimizer, 'min')\n",
        "\n",
        "def train_one_epoch(model, train_loader, loss_func, optimizer, device):\n",
        "    model.train()  # Establecer el modelo en modo de entrenamiento\n",
        "    total_loss = 0\n",
        "\n",
        "    for inputs, labels in train_loader:\n",
        "        inputs, labels = inputs.to(device), labels.to(device)\n",
        "\n",
        "        # Paso hacia adelante\n",
        "        outputs = model(inputs)\n",
        "        loss = loss_func(outputs, labels)\n",
        "\n",
        "        # Paso hacia atrás y optimización\n",
        "        optimizer.zero_grad()\n",
        "        loss.backward()\n",
        "        optimizer.step()\n",
        "\n",
        "        total_loss += loss.item()\n",
        "\n",
        "    avg_loss = total_loss / len(train_loader)\n",
        "    return avg_loss\n",
        "\n",
        "def validate(model, val_loader, loss_func, device):\n",
        "    model.eval()  # Establecer el modelo en modo de evaluación\n",
        "    total_loss = 0\n",
        "    with torch.no_grad():\n",
        "        for inputs, labels in val_loader:\n",
        "            inputs, labels = inputs.to(device), labels.to(device)\n",
        "            outputs = model(inputs)\n",
        "            loss = loss_func(outputs, labels)\n",
        "            total_loss += loss.item()\n",
        "\n",
        "    avg_loss = total_loss / len(val_loader)\n",
        "    return avg_loss\n",
        "\n",
        "# Ejemplo de cómo ejecutar el bucle de entrenamiento y validación\n",
        "device = torch.device(\"cuda\" if torch.cuda.is_available() else \"cpu\")\n",
        "model.to(device)\n",
        "\n",
        "train_losses = []\n",
        "val_losses = []\n",
        "\n",
        "for epoch in range(num_epochs):\n",
        "    train_loss = train_one_epoch(model, train_loader, loss_func, optimizer, device)\n",
        "    val_loss = validate(model, val_loader, loss_func, device)\n",
        "    scheduler.step(val_loss)\n",
        "    train_losses.append(train_loss)\n",
        "    val_losses.append(val_loss)\n",
        "    print(f'Epoch {epoch+1}/{num_epochs}, Train Loss: {train_loss:.4f}, Val Loss: {val_loss:.4f}')\n"
      ],
      "metadata": {
        "colab": {
          "base_uri": "https://localhost:8080/"
        },
        "id": "E96oNj04Ixw4",
        "outputId": "d23158bf-6925-4f79-e94d-7b2ba5b3ed47"
      },
      "execution_count": null,
      "outputs": [
        {
          "output_type": "stream",
          "name": "stdout",
          "text": [
            "Epoch 1/20, Train Loss: 0.9004, Val Loss: 0.5294\n",
            "Epoch 2/20, Train Loss: 0.4120, Val Loss: 0.2169\n",
            "Epoch 3/20, Train Loss: 0.2390, Val Loss: 0.1410\n",
            "Epoch 4/20, Train Loss: 0.1901, Val Loss: 0.1403\n",
            "Epoch 5/20, Train Loss: 0.1582, Val Loss: 0.1124\n",
            "Epoch 6/20, Train Loss: 0.1347, Val Loss: 0.1148\n",
            "Epoch 7/20, Train Loss: 0.1198, Val Loss: 0.1013\n",
            "Epoch 8/20, Train Loss: 0.0993, Val Loss: 0.1075\n",
            "Epoch 9/20, Train Loss: 0.1114, Val Loss: 0.1034\n",
            "Epoch 10/20, Train Loss: 0.1043, Val Loss: 0.1030\n",
            "Epoch 11/20, Train Loss: 0.0835, Val Loss: 0.1042\n",
            "Epoch 12/20, Train Loss: 0.0782, Val Loss: 0.1101\n",
            "Epoch 13/20, Train Loss: 0.0856, Val Loss: 0.1056\n",
            "Epoch 14/20, Train Loss: 0.0842, Val Loss: 0.0887\n",
            "Epoch 15/20, Train Loss: 0.0726, Val Loss: 0.1214\n",
            "Epoch 16/20, Train Loss: 0.0576, Val Loss: 0.1094\n",
            "Epoch 17/20, Train Loss: 0.0513, Val Loss: 0.0986\n",
            "Epoch 18/20, Train Loss: 0.0590, Val Loss: 0.1215\n",
            "Epoch 19/20, Train Loss: 0.0593, Val Loss: 0.0916\n",
            "Epoch 20/20, Train Loss: 0.0537, Val Loss: 0.1083\n"
          ]
        }
      ]
    },
    {
      "cell_type": "markdown",
      "source": [
        "**Evaluación del modelo**"
      ],
      "metadata": {
        "id": "8eZlM5EwI-3A"
      }
    },
    {
      "cell_type": "code",
      "source": [
        "from sklearn.metrics import classification_report, confusion_matrix\n",
        "import numpy as np\n",
        "\n",
        "def evaluate_model(model, test_loader, device):\n",
        "    model.eval()  # Establecer el modelo en modo de evaluación\n",
        "    all_preds = []\n",
        "    all_labels = []\n",
        "\n",
        "    with torch.no_grad():\n",
        "        for inputs, labels in test_loader:\n",
        "            inputs = inputs.to(device)\n",
        "            labels = labels.to(device)\n",
        "            outputs = model(inputs)\n",
        "\n",
        "            _, predicted = torch.max(outputs, 1)\n",
        "            all_preds.extend(predicted.cpu().numpy())\n",
        "            all_labels.extend(labels.cpu().numpy())\n",
        "\n",
        "    return all_preds, all_labels\n",
        "\n",
        "# Evaluar el modelo en el conjunto de prueba\n",
        "all_preds, all_labels = evaluate_model(model, test_loader, device)\n",
        "\n",
        "# Calcular y mostrar métricas de rendimiento\n",
        "print(classification_report(all_labels, all_preds))\n",
        "print(confusion_matrix(all_labels, all_preds))\n"
      ],
      "metadata": {
        "colab": {
          "base_uri": "https://localhost:8080/"
        },
        "id": "cJx0Qo67I1ho",
        "outputId": "60a845cb-0881-48d2-811b-3061fa9e1a71"
      },
      "execution_count": null,
      "outputs": [
        {
          "output_type": "stream",
          "name": "stdout",
          "text": [
            "              precision    recall  f1-score   support\n",
            "\n",
            "           0       0.98      0.94      0.96       122\n",
            "           1       0.89      0.99      0.94       117\n",
            "           2       1.00      0.97      0.98       240\n",
            "\n",
            "    accuracy                           0.97       479\n",
            "   macro avg       0.96      0.97      0.96       479\n",
            "weighted avg       0.97      0.97      0.97       479\n",
            "\n",
            "[[115   7   0]\n",
            " [  1 116   0]\n",
            " [  1   7 232]]\n"
          ]
        }
      ]
    },
    {
      "cell_type": "markdown",
      "source": [
        "**Gráficas**"
      ],
      "metadata": {
        "id": "aMQ9y8oIJrUS"
      }
    },
    {
      "cell_type": "code",
      "source": [
        "import matplotlib.pyplot as plt\n",
        "\n",
        "def plot_losses(train_losses, val_losses):\n",
        "    plt.plot(train_losses, label='Entrenamiento')\n",
        "    plt.plot(val_losses, label='Validación')\n",
        "    plt.title('Pérdida durante el Entrenamiento y Validación')\n",
        "    plt.xlabel('Épocas')\n",
        "    plt.ylabel('Pérdida')\n",
        "    plt.legend()\n",
        "    plt.show()\n",
        "\n",
        "plot_losses(train_losses, val_losses)\n"
      ],
      "metadata": {
        "colab": {
          "base_uri": "https://localhost:8080/",
          "height": 474
        },
        "id": "nHtBPYOWJqd_",
        "outputId": "b2c17fde-f097-4391-fce5-eb36efc0721b"
      },
      "execution_count": null,
      "outputs": [
        {
          "output_type": "display_data",
          "data": {
            "text/plain": [
              "<Figure size 640x480 with 1 Axes>"
            ],
            "image/png": "[encoded data removed]"
          },
          "metadata": {}
        }
      ]
    },
    {
      "cell_type": "code",
      "source": [
        "import torch\n",
        "\n",
        "# Carga tu modelo (asegúrate de que esté en modo de evaluación)\n",
        "model.eval()\n",
        "\n",
        "# Cadena de ADN de ejemplo para clasificar\n",
        "dna_sequence = \"GCCCTGGCGCCCAGCACCATGAAGATCAAGGTGAGTCGAGGGGTTGGTGGCCCTCTGCCT\"  # Reemplaza esto con tu secuencia\n",
        "\n",
        "# Codificar la secuencia\n",
        "encoded_sequence = one_hot_encode(dna_sequence).unsqueeze(0)  # Agrega una dimensión de lote\n",
        "\n",
        "# Realizar la predicción\n",
        "with torch.no_grad():\n",
        "    output = model(encoded_sequence)\n",
        "    predicted_class = torch.argmax(output, dim=1)\n",
        "\n",
        "# Imprimir la clase predicha\n",
        "print(f\"Clase predicha: {predicted_class.item()}\")\n"
      ],
      "metadata": {
        "colab": {
          "base_uri": "https://localhost:8080/"
        },
        "id": "xqyq08iPSnI1",
        "outputId": "2b433fa3-6616-4ab9-e94f-1354155392f1"
      },
      "execution_count": null,
      "outputs": [
        {
          "output_type": "stream",
          "name": "stdout",
          "text": [
            "Clase predicha: 0\n"
          ]
        }
      ]
    }
  ]
}